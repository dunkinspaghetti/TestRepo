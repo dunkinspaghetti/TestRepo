{
 "cells": [
  {
   "cell_type": "markdown",
   "id": "64d5ea10-27ce-491a-b033-3c3e2f06b8c9",
   "metadata": {},
   "source": [
    "# Data Science Tools and Ecosystem"
   ]
  },
  {
   "cell_type": "markdown",
   "id": "a960aaf2-3979-4986-825e-7835a23b449b",
   "metadata": {},
   "source": [
    "## Author\n",
    "Uttam Rai"
   ]
  },
  {
   "cell_type": "markdown",
   "id": "fe049bf7-d007-49a1-b65e-3250ecc2f491",
   "metadata": {},
   "source": [
    "In this notebook, Data Science tools and Ecosystem are summarized."
   ]
  },
  {
   "cell_type": "markdown",
   "id": "052483ad-5fb5-4627-83e8-fe54c52ea99d",
   "metadata": {},
   "source": [
    "**Objectives**\n",
    "- Understand the programming languages used in Data science\n",
    "- Understand the tools used in Data science\n",
    "- Understand the libraries which helps in conducting data science experiments\n",
    "- Get basic understanding of popular languages and tools in Python (Jupyter Notebook) and R (RStudios)\n",
    "- Know how to version controls and tools associated to it"
   ]
  },
  {
   "cell_type": "markdown",
   "id": "c4bd5cb7-d511-477a-a240-30d871046305",
   "metadata": {},
   "source": [
    "Some of the popular languages that Data Scientists use are:\n",
    "1. Python\n",
    "2. R\n",
    "3. SQL"
   ]
  },
  {
   "cell_type": "markdown",
   "id": "1ceeff5a-9798-4da3-b44c-e2acffe45f89",
   "metadata": {},
   "source": [
    "Some of the commonly used libraries used by Data Scientists include:\n",
    "1. pandas\n",
    "2. numpy\n",
    "3. sklearn"
   ]
  },
  {
   "cell_type": "markdown",
   "id": "04685d97-24dd-4b0f-aa64-a0feaaa441d5",
   "metadata": {},
   "source": [
    "Tools used in data science includes (especially development environment):\n",
    "| Data Science Tools |\n",
    "|--------------------|\n",
    "| Jupyter Notebook |\n",
    "| RStudios |\n",
    "| VisualStudios |"
   ]
  },
  {
   "cell_type": "markdown",
   "id": "b735b9df-0854-40af-9d7d-89e0f17119b6",
   "metadata": {},
   "source": [
    "### Below are few examples of evaluating arithmetic expressions in Python."
   ]
  },
  {
   "cell_type": "code",
   "execution_count": 1,
   "id": "2e6c8a7f-9491-4afc-a47a-853fbbc425fd",
   "metadata": {},
   "outputs": [
    {
     "data": {
      "text/plain": [
       "17"
      ]
     },
     "execution_count": 1,
     "metadata": {},
     "output_type": "execute_result"
    }
   ],
   "source": [
    "# Simple expression to multiply and then add integers\n",
    "(3*4)+5"
   ]
  },
  {
   "cell_type": "code",
   "execution_count": 2,
   "id": "0713785f-95d9-4522-b98e-937e48a3f69e",
   "metadata": {},
   "outputs": [
    {
     "data": {
      "text/plain": [
       "3.3333333333333335"
      ]
     },
     "execution_count": 2,
     "metadata": {},
     "output_type": "execute_result"
    }
   ],
   "source": [
    "# Converting minutes into hours\n",
    "200/60"
   ]
  },
  {
   "cell_type": "code",
   "execution_count": null,
   "id": "30ce0601-cc80-425a-9866-a1ff2548db74",
   "metadata": {},
   "outputs": [],
   "source": []
  }
 ],
 "metadata": {
  "kernelspec": {
   "display_name": "Python 3 (ipykernel)",
   "language": "python",
   "name": "python3"
  },
  "language_info": {
   "codemirror_mode": {
    "name": "ipython",
    "version": 3
   },
   "file_extension": ".py",
   "mimetype": "text/x-python",
   "name": "python",
   "nbconvert_exporter": "python",
   "pygments_lexer": "ipython3",
   "version": "3.12.8"
  }
 },
 "nbformat": 4,
 "nbformat_minor": 5
}
